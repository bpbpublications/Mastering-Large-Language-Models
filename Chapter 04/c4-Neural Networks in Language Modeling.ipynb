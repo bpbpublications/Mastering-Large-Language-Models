{
 "cells": [
  {
   "cell_type": "markdown",
   "id": "f45194cb",
   "metadata": {},
   "source": [
    "## Example of simple feedforward neural network"
   ]
  },
  {
   "cell_type": "code",
   "execution_count": 1,
   "id": "5e6c9142",
   "metadata": {},
   "outputs": [],
   "source": [
    "import tensorflow as tf\n",
    "import numpy as np\n",
    "\n",
    "# Define the training data\n",
    "train_data = np.array([[0, 0], [0, 1], [1, 0], [1, 1]])\n",
    "train_labels = np.array([[1], [0], [0], [1]])"
   ]
  },
  {
   "cell_type": "code",
   "execution_count": 2,
   "id": "71d5dd08",
   "metadata": {},
   "outputs": [
    {
     "name": "stdout",
     "output_type": "stream",
     "text": [
      "Metal device set to: Apple M2\n"
     ]
    }
   ],
   "source": [
    "# Define the architecture of the feedforward neural network\n",
    "model = tf.keras.models.Sequential([\n",
    "    tf.keras.layers.Dense(2, activation='relu', input_shape=(2,)),\n",
    "    tf.keras.layers.Dense(1, activation='sigmoid')\n",
    "])\n",
    "\n",
    "# Compile the model\n",
    "model.compile(optimizer='adam',\n",
    "              loss='binary_crossentropy',\n",
    "              metrics=['accuracy'])"
   ]
  },
  {
   "cell_type": "code",
   "execution_count": 3,
   "id": "f7abeca5",
   "metadata": {},
   "outputs": [
    {
     "name": "stderr",
     "output_type": "stream",
     "text": [
      "2023-06-02 17:15:53.419173: W tensorflow/tsl/platform/profile_utils/cpu_utils.cc:128] Failed to get CPU frequency: 0 Hz\n"
     ]
    },
    {
     "name": "stdout",
     "output_type": "stream",
     "text": [
      "1/1 [==============================] - 0s 34ms/step\n",
      "Input: [0 0] - Prediction: [0.]\n",
      "Input: [0 1] - Prediction: [0.]\n",
      "Input: [1 0] - Prediction: [0.]\n",
      "Input: [1 1] - Prediction: [0.]\n"
     ]
    }
   ],
   "source": [
    "# Train the model\n",
    "model.fit(train_data, train_labels, epochs=500, verbose=0)\n",
    "\n",
    "# Test the model\n",
    "test_data = np.array([[0, 0], [0, 1], [1, 0], [1, 1]])\n",
    "predictions = model.predict(test_data)\n",
    "\n",
    "# Print the predictions\n",
    "for i in range(len(test_data)):\n",
    "    print(f\"Input: {test_data[i]} - Prediction: {np.round(predictions[i])}\")"
   ]
  },
  {
   "cell_type": "code",
   "execution_count": null,
   "id": "3bbf63f0",
   "metadata": {},
   "outputs": [],
   "source": []
  }
 ],
 "metadata": {
  "kernelspec": {
   "display_name": "Python 3 (ipykernel)",
   "language": "python",
   "name": "python3"
  },
  "language_info": {
   "codemirror_mode": {
    "name": "ipython",
    "version": 3
   },
   "file_extension": ".py",
   "mimetype": "text/x-python",
   "name": "python",
   "nbconvert_exporter": "python",
   "pygments_lexer": "ipython3",
   "version": "3.10.10"
  }
 },
 "nbformat": 4,
 "nbformat_minor": 5
}
