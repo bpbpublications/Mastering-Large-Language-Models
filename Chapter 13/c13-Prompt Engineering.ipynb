{
 "cells": [
  {
   "cell_type": "markdown",
   "id": "578deded-549e-4714-88e8-2579c455fab1",
   "metadata": {},
   "source": [
    "# Prompt Engieering"
   ]
  },
  {
   "cell_type": "code",
   "execution_count": 22,
   "id": "eaae71eb-2b80-46d5-a994-7f5ff79cde0e",
   "metadata": {},
   "outputs": [],
   "source": [
    "# We will use openai APIs for prompt engineering\n",
    "# !pip install openai"
   ]
  },
  {
   "cell_type": "code",
   "execution_count": 3,
   "id": "64142002-6414-49c3-9a73-f4c58b995dc7",
   "metadata": {},
   "outputs": [],
   "source": [
    "from openai import OpenAI\n",
    "\n",
    "# Your API key\n",
    "api_key = \"<YOUR_API_KEY>\""
   ]
  },
  {
   "cell_type": "code",
   "execution_count": 19,
   "id": "3738a1d5-3704-4b87-8ca3-adb59bae3966",
   "metadata": {},
   "outputs": [],
   "source": [
    "# Initialize OpenAI client\n",
    "client = OpenAI(api_key=api_key)"
   ]
  },
  {
   "cell_type": "markdown",
   "id": "1c9d76ab-e7ca-41e3-9304-1ce95b2f4c25",
   "metadata": {},
   "source": [
    "## Example of Chain-of-Thought (CoT) Prompting"
   ]
  },
  {
   "cell_type": "code",
   "execution_count": 26,
   "id": "5a5fa74f-74ca-443a-904b-103b92e95c9b",
   "metadata": {},
   "outputs": [],
   "source": [
    "# Chain-of-thought steps\n",
    "steps = [\n",
    "    \"1. Identify the relevant facts and information from the prompt.\",\n",
    "    \"2. Analyze the relationships between these facts and information.\",\n",
    "    \"3. Consider different possible conclusions based on the analysis.\",\n",
    "    \"4. Evaluate the plausibility of each conclusion.\",\n",
    "    \"5. Choose the most likely conclusion and explain your reasoning.\",\n",
    "]\n",
    "\n",
    "# Information and question\n",
    "information = \"\"\"Alice has 3 apples and Bob has 5 oranges. \n",
    "    They decide to combine their fruit.\n",
    "    From those fruits, they made orange juice from 2 fruits.\"\"\"\n",
    "\n",
    "question = \"How many pieces of fruit now do they have in total?\""
   ]
  },
  {
   "cell_type": "code",
   "execution_count": 27,
   "id": "661d2d39-38a9-4dd0-974f-3dea7918b99e",
   "metadata": {},
   "outputs": [
    {
     "name": "stdout",
     "output_type": "stream",
     "text": [
      "Follow these steps in your response:\n",
      "\n",
      "1. Identify the relevant facts and information from the prompt.\n",
      "2. Analyze the relationships between these facts and information.\n",
      "3. Consider different possible conclusions based on the analysis.\n",
      "4. Evaluate the plausibility of each conclusion.\n",
      "5. Choose the most likely conclusion and explain your reasoning.\n",
      "\n",
      "Information: Alice has 3 apples and Bob has 5 oranges. \n",
      "    They decide to combine their fruit.\n",
      "    From those fruits, they made orange juice from 2 fruits.\n",
      "\n",
      "Question: How many pieces of fruit now do they have in total?\n"
     ]
    }
   ],
   "source": [
    "# Chain-of-thought prompt with steps\n",
    "chat_prompt = f\"\"\"Follow these steps in your response:\n",
    "\n",
    "{'\\n'.join(steps)}\n",
    "\n",
    "Information: {information}\n",
    "\n",
    "Question: {question}\"\"\"\n",
    "\n",
    "print (chat_prompt)"
   ]
  },
  {
   "cell_type": "code",
   "execution_count": 28,
   "id": "262b06a2-a529-4efd-99c3-d7921b45b8d2",
   "metadata": {},
   "outputs": [
    {
     "name": "stdout",
     "output_type": "stream",
     "text": [
      "ChatCompletionMessage(content=\"1. The relevant facts and information from the prompt are as follows:\\n   - Alice has 3 apples.\\n   - Bob has 5 oranges.\\n   - They combined their fruits.\\n   - They made orange juice from 2 fruits.\\n\\n2. Analyzing the relationships between these facts and information:\\n   - Alice has apples.\\n   - Bob has oranges.\\n   - They combined their fruits, implying that they put their apples and oranges together.\\n   - They made orange juice from 2 fruits, which means they used 2 oranges from Bob's collection.\\n\\n3. Considering different possible conclusions based on the analysis:\\n   - Conclusion 1: Alice and Bob have a total of 8 fruits (3 apples + 5 oranges).\\n   - Conclusion 2: Alice and Bob have a total of 6 fruits (3 apples + 2 oranges used for juice).\\n\\n4. Evaluating the plausibility of each conclusion:\\n   - Conclusion 1: This conclusion assumes that all the fruits, including the oranges used for juice, are still accounted for. However, the prompt does not provide any information on whether the used oranges were removed from the total count or included.\\n   - Conclusion 2: This conclusion takes into account that 2 oranges were used for juice but does not account for the remaining 3 oranges.\\n\\n5. Choosing the most likely conclusion and explaining the reasoning:\\n   Based on the analysis, the most likely conclusion is conclusion 2: Alice and Bob have a total of 6 fruits (3 apples + 2 oranges used for juice). This is because the prompt states that they made orange juice from 2 fruits, indicating that those 2 oranges were used. However, it does not specify whether those used oranges should still be counted as separate pieces of fruit. Since the prompt does not provide any further information, it is reasonable to assume that the 2 oranges used for juice are no longer counted, leaving Alice and Bob with 3 apples and 3 remaining oranges. Therefore, the total number of fruits they have in total is 6.\", role='assistant', function_call=None, tool_calls=None)\n"
     ]
    }
   ],
   "source": [
    "completion = client.chat.completions.create(\n",
    "  model=\"gpt-3.5-turbo\",\n",
    "  messages=[\n",
    "    {\"role\": \"user\", \"content\": chat_prompt}\n",
    "  ]\n",
    ")\n",
    "\n",
    "print(completion.choices[0].message)"
   ]
  },
  {
   "cell_type": "markdown",
   "id": "1de89195-4d4d-4db1-8141-82c0d539de32",
   "metadata": {},
   "source": [
    "## Prompt Design Examples for Different Tasks"
   ]
  },
  {
   "cell_type": "code",
   "execution_count": 32,
   "id": "44abdb6b-8937-431a-a42e-58da2ac8173f",
   "metadata": {},
   "outputs": [
    {
     "name": "stdout",
     "output_type": "stream",
     "text": [
      "ChatCompletionMessage(content=\"Prompt engineering is the process of creating specific instructions or inputs to effectively utilize language models for various natural language processing tasks. It involves understanding the model's abilities, the nuances of different tasks, and having linguistic precision. This chapter explores the details of prompt engineering, unveiling its secrets and teaching the necessary techniques to make the most of language models.\", role='assistant', function_call=None, tool_calls=None)\n",
      "ChatCompletionMessage(content='The shape of the earth is best described as an oblate spheroid, meaning it is slightly flattened at the poles and bulging at the equator.', role='assistant', function_call=None, tool_calls=None)\n"
     ]
    }
   ],
   "source": [
    "# Example of Text Summarization\n",
    "completion = client.chat.completions.create(\n",
    "  model=\"gpt-3.5-turbo\",\n",
    "  messages=[\n",
    "    {\"role\": \"system\", \"content\": \"Please summarise below text: Prompt engineering is the art and science of crafting the right input to elicit the desired output from these language models. It is a skill that can transform a powerful language model into a tailored solution for a multitude of NLP tasks. Crafting prompts effectively requires understanding the model's capabilities, the nuances of different NLP tasks, and a knack for linguistic precision. In this chapter, we will delve into the intricate world of prompt engineering, revealing its secrets and teaching you the techniques needed to harness the immense potential of LMs.\"}\n",
    "  ]\n",
    ")\n",
    "print(completion.choices[0].message)\n",
    "\n",
    "\n",
    "# Example of Question Answering\n",
    "completion = client.chat.completions.create(\n",
    "  model=\"gpt-3.5-turbo\",\n",
    "  messages=[\n",
    "    {\"role\": \"system\", \"content\": \"\"\"With the following information, what is the shape of the earth.\n",
    "    Info: Earth has never been perfectly round. The planet bulges around the equator by an extra 0.3 percent as a result of the fact that it rotates about its axis. Earth's diameter from North to South Pole is 12,714 kilometers (7,900 miles), while through the equator it is 12,756 kilometers (7,926 miles).\"\"\"}\n",
    "  ]\n",
    ")\n",
    "print(completion.choices[0].message)"
   ]
  },
  {
   "cell_type": "code",
   "execution_count": null,
   "id": "fdace62e-10d7-483a-8cd9-008d301a2c78",
   "metadata": {},
   "outputs": [],
   "source": []
  }
 ],
 "metadata": {
  "kernelspec": {
   "display_name": "Python 3 (ipykernel)",
   "language": "python",
   "name": "python3"
  },
  "language_info": {
   "codemirror_mode": {
    "name": "ipython",
    "version": 3
   },
   "file_extension": ".py",
   "mimetype": "text/x-python",
   "name": "python",
   "nbconvert_exporter": "python",
   "pygments_lexer": "ipython3",
   "version": "3.12.1"
  }
 },
 "nbformat": 4,
 "nbformat_minor": 5
}
