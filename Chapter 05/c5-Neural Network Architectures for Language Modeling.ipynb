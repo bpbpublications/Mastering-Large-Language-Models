{
 "cells": [
  {
   "cell_type": "markdown",
   "id": "266d4af4",
   "metadata": {},
   "source": [
    "# Neural network architectures for language modeling"
   ]
  },
  {
   "cell_type": "code",
   "execution_count": 2,
   "id": "ca57d66b",
   "metadata": {},
   "outputs": [],
   "source": [
    "# Import libraries\n",
    "import numpy as np\n",
    "import tensorflow as tf\n",
    "from tensorflow import keras\n",
    "from tensorflow.keras import layers\n",
    "from tensorflow.keras.datasets import imdb"
   ]
  },
  {
   "cell_type": "code",
   "execution_count": null,
   "id": "96f000d1",
   "metadata": {},
   "outputs": [],
   "source": [
    "# Define hyperparameters\n",
    "max_features = 20000 # Number of words to consider as features\n",
    "maxlen = 200 # Cut texts after this number of words\n",
    "batch_size = 32 # Number of samples per batch\n",
    "embedding_dim = 100 # Dimension of word embeddings\n",
    "hidden_dim = 128 # Dimension of hidden state\n",
    "dropout = 0.2 # Dropout probability\n",
    "learning_rate = 0.001 # Learning rate for optimizer\n",
    "num_epochs = 10 # Number of training epochs"
   ]
  },
  {
   "cell_type": "code",
   "execution_count": null,
   "id": "6cc7766c",
   "metadata": {},
   "outputs": [],
   "source": [
    "# Load and preprocess data\n",
    "\n",
    "# Load IMDB dataset\n",
    "(x_train, y_train), (x_test, y_test) = imdb.load_data(num_words=max_features)\n",
    "\n",
    "# Pad sequences with zeros\n",
    "x_train = keras.preprocessing.sequence.pad_sequences(x_train, maxlen=maxlen)\n",
    "x_test = keras.preprocessing.sequence.pad_sequences(x_test, maxlen=maxlen)\n",
    "\n",
    "x_train, y_train"
   ]
  },
  {
   "cell_type": "markdown",
   "id": "313c7d49",
   "metadata": {},
   "source": [
    "## Example of simple LSTM neural network"
   ]
  },
  {
   "cell_type": "code",
   "execution_count": null,
   "id": "efbf9e7f",
   "metadata": {},
   "outputs": [],
   "source": [
    "# Define LSTM model using the Sequential API\n",
    "\n",
    "# Create a sequential model\n",
    "model = keras.Sequential()\n",
    "# Add an embedding layer\n",
    "model.add(layers.Embedding(max_features, embedding_dim))\n",
    "# Add an LSTM layer with dropout\n",
    "model.add(layers.LSTM(hidden_dim, dropout=dropout))\n",
    "# Add a dense layer with sigmoid activation for binary classification\n",
    "model.add(layers.Dense(1, activation='sigmoid'))"
   ]
  },
  {
   "cell_type": "code",
   "execution_count": null,
   "id": "c8adb7fa",
   "metadata": {},
   "outputs": [],
   "source": [
    "# Compile and train the model\n",
    "# Compile the model with binary cross entropy loss and Adam optimizer\n",
    "model.compile(loss='binary_crossentropy', optimizer=keras.optimizers.Adam(learning_rate=learning_rate), metrics=['accuracy'])\n",
    "\n",
    "# Train the model on training data with validation split\n",
    "model.fit(x_train, y_train, batch_size=batch_size, epochs=num_epochs, validation_split=0.2) "
   ]
  },
  {
   "cell_type": "code",
   "execution_count": null,
   "id": "fcf0f080",
   "metadata": {},
   "outputs": [],
   "source": [
    "# Print model summary\n",
    "print(model.summary())"
   ]
  },
  {
   "cell_type": "code",
   "execution_count": null,
   "id": "b74953ef",
   "metadata": {},
   "outputs": [],
   "source": [
    "# Evaluate the model on test data\n",
    "model.evaluate(x_test, y_test)"
   ]
  },
  {
   "cell_type": "markdown",
   "id": "39d6cabe",
   "metadata": {},
   "source": [
    "## Example of simple GRU neural network"
   ]
  },
  {
   "cell_type": "code",
   "execution_count": null,
   "id": "8cbcf3b9",
   "metadata": {},
   "outputs": [],
   "source": [
    "# Define GRU model using the Sequential API\n",
    "# Create a sequential model\n",
    "model = keras.Sequential()\n",
    "model.add(layers.Embedding(max_features, embedding_dim))\n",
    "\n",
    "# Add a GRU layer with dropout\n",
    "model.add(layers.GRU(hidden_dim, dropout=dropout))\n",
    "# Add a dense layer with sigmoid activation for binary classification\n",
    "model.add(layers.Dense(1, activation='sigmoid'))\n",
    "\n",
    "# Compile and train the model\n",
    "# Compile the model with binary cross entropy loss and Adam optimizer\n",
    "model.compile(loss='binary_crossentropy', optimizer=keras.optimizers.Adam(learning_rate=learning_rate), metrics=['accuracy'])\n",
    "\n",
    "# Train the model on training data with validation split\n",
    "model.fit(x_train, y_train, batch_size=batch_size, epochs=num_epochs, validation_split=0.2)\n",
    "\n",
    "# Print model summary\n",
    "print(model.summary())\n",
    "\n",
    "# Evaluate the model on test data\n",
    "model.evaluate(x_test, y_test) # Evaluate the model on test data"
   ]
  },
  {
   "cell_type": "markdown",
   "id": "cec1b95e",
   "metadata": {},
   "source": [
    "## Example of Bidirectional RNN neural network"
   ]
  },
  {
   "cell_type": "code",
   "execution_count": null,
   "id": "00e77644",
   "metadata": {},
   "outputs": [],
   "source": [
    "# Define Bidirectional RNN model using the Sequential API\n",
    "# Create a sequential model\n",
    "model = keras.Sequential()\n",
    "model.add(layers.Embedding(max_features, embedding_dim))\n",
    "\n",
    "# Add a Bidirectional RNN layer with dropout\n",
    "model.add(layers.Bidirectional(layers.SimpleRNN(hidden_dim, dropout=dropout)))\n",
    "# Add a dense layer with sigmoid activation for binary classification\n",
    "model.add(layers.Dense(1, activation='sigmoid'))\n",
    "\n",
    "# Compile and train the model\n",
    "# Compile the model with binary cross entropy loss and Adam optimizer\n",
    "model.compile(loss='binary_crossentropy', optimizer=keras.optimizers.Adam(learning_rate=learning_rate), metrics=['accuracy'])\n",
    "\n",
    "# Train the model on training data with validation split\n",
    "model.fit(x_train, y_train, batch_size=batch_size, epochs=num_epochs, validation_split=0.2)\n",
    "\n",
    "# Print model summary\n",
    "print(model.summary())\n",
    "\n",
    "# Evaluate the model on test data\n",
    "model.evaluate(x_test, y_test) # Evaluate the model on test data"
   ]
  },
  {
   "cell_type": "markdown",
   "id": "5c2b7609",
   "metadata": {},
   "source": [
    "## Example of CNN network"
   ]
  },
  {
   "cell_type": "code",
   "execution_count": 4,
   "id": "a2107434",
   "metadata": {},
   "outputs": [
    {
     "name": "stdout",
     "output_type": "stream",
     "text": [
      "Model: \"sequential_2\"\n",
      "_________________________________________________________________\n",
      " Layer (type)                Output Shape              Param #   \n",
      "=================================================================\n",
      " embedding (Embedding)       (None, 100, 100)          1000000   \n",
      "                                                                 \n",
      " conv1d (Conv1D)             (None, 98, 128)           38528     \n",
      "                                                                 \n",
      " global_max_pooling1d (Globa  (None, 128)              0         \n",
      " lMaxPooling1D)                                                  \n",
      "                                                                 \n",
      " dense (Dense)               (None, 256)               33024     \n",
      "                                                                 \n",
      " dropout (Dropout)           (None, 256)               0         \n",
      "                                                                 \n",
      " dense_1 (Dense)             (None, 10)                2570      \n",
      "                                                                 \n",
      "=================================================================\n",
      "Total params: 1,074,122\n",
      "Trainable params: 1,074,122\n",
      "Non-trainable params: 0\n",
      "_________________________________________________________________\n"
     ]
    }
   ],
   "source": [
    "from keras.models import Sequential\n",
    "from keras.layers import Embedding, Conv1D, GlobalMaxPooling1D, Dense, Dropout\n",
    "\n",
    "# Example usage\n",
    "vocab_size = 10000\n",
    "embedding_dim = 100\n",
    "num_filters = 128\n",
    "filter_size = 3\n",
    "hidden_dim = 256\n",
    "output_dim = 10\n",
    "dropout = 0.5\n",
    "max_sequence_length = 100\n",
    "\n",
    "# Define the model architecture\n",
    "model = Sequential()\n",
    "model.add(Embedding(vocab_size, embedding_dim, input_length=max_sequence_length))\n",
    "model.add(Conv1D(filters=num_filters, kernel_size=filter_size, activation='relu'))\n",
    "model.add(GlobalMaxPooling1D())\n",
    "model.add(Dense(hidden_dim, activation='relu'))\n",
    "model.add(Dropout(dropout))\n",
    "model.add(Dense(output_dim, activation='softmax'))\n",
    "\n",
    "# Compile the model\n",
    "model.compile(loss='categorical_crossentropy', optimizer='adam', metrics=['accuracy'])\n",
    "\n",
    "# Print the model summary\n",
    "model.summary()"
   ]
  },
  {
   "cell_type": "code",
   "execution_count": null,
   "id": "83b84298",
   "metadata": {},
   "outputs": [],
   "source": []
  }
 ],
 "metadata": {
  "kernelspec": {
   "display_name": "Python 3 (ipykernel)",
   "language": "python",
   "name": "python3"
  },
  "language_info": {
   "codemirror_mode": {
    "name": "ipython",
    "version": 3
   },
   "file_extension": ".py",
   "mimetype": "text/x-python",
   "name": "python",
   "nbconvert_exporter": "python",
   "pygments_lexer": "ipython3",
   "version": "3.10.10"
  }
 },
 "nbformat": 4,
 "nbformat_minor": 5
}
